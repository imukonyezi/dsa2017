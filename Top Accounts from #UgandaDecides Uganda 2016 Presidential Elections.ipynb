{
 "cells": [
  {
   "cell_type": "code",
   "execution_count": 1,
   "metadata": {
    "collapsed": false
   },
   "outputs": [],
   "source": [
    "%matplotlib inline\n",
    "import numpy as np\n",
    "import pandas as pd\n",
    "import matplotlib.pyplot as plt\n",
    "\n",
    "pd.set_option('display.mpl_style','default')\n",
    "plt.rcParams['figure.figsize'] = (15,3)\n",
    "plt.rcParams['font.family'] = 'sans-serif'\n",
    "\n",
    "from pylab import *\n",
    "import seaborn as sns"
   ]
  },
  {
   "cell_type": "code",
   "execution_count": 2,
   "metadata": {
    "collapsed": false
   },
   "outputs": [
    {
     "data": {
      "text/html": [
       "<div>\n",
       "<table border=\"1\" class=\"dataframe\">\n",
       "  <thead>\n",
       "    <tr style=\"text-align: right;\">\n",
       "      <th></th>\n",
       "      <th>text</th>\n",
       "      <th>favorited</th>\n",
       "      <th>favoriteCount</th>\n",
       "      <th>replyToSN</th>\n",
       "      <th>truncated</th>\n",
       "      <th>replyToSID</th>\n",
       "      <th>id</th>\n",
       "      <th>replyToUID</th>\n",
       "      <th>statusSource</th>\n",
       "      <th>screenName</th>\n",
       "      <th>retweetCount</th>\n",
       "      <th>isRetweet</th>\n",
       "      <th>retweeted</th>\n",
       "      <th>longitude</th>\n",
       "      <th>latitude</th>\n",
       "    </tr>\n",
       "    <tr>\n",
       "      <th>created</th>\n",
       "      <th></th>\n",
       "      <th></th>\n",
       "      <th></th>\n",
       "      <th></th>\n",
       "      <th></th>\n",
       "      <th></th>\n",
       "      <th></th>\n",
       "      <th></th>\n",
       "      <th></th>\n",
       "      <th></th>\n",
       "      <th></th>\n",
       "      <th></th>\n",
       "      <th></th>\n",
       "      <th></th>\n",
       "      <th></th>\n",
       "    </tr>\n",
       "  </thead>\n",
       "  <tbody>\n",
       "    <tr>\n",
       "      <th>2016-02-18 19:11:00</th>\n",
       "      <td>\"@ntvuganda: Kizza Besigye has been arrested b...</td>\n",
       "      <td>False</td>\n",
       "      <td>0</td>\n",
       "      <td>0</td>\n",
       "      <td>False</td>\n",
       "      <td>NaN</td>\n",
       "      <td>7.000000e+17</td>\n",
       "      <td>NaN</td>\n",
       "      <td>&lt;a href=\"http://www.twitter.com\" rel=\"nofollow...</td>\n",
       "      <td>mashanubian</td>\n",
       "      <td>0</td>\n",
       "      <td>False</td>\n",
       "      <td>False</td>\n",
       "      <td>NaN</td>\n",
       "      <td>NaN</td>\n",
       "    </tr>\n",
       "    <tr>\n",
       "      <th>2016-02-18 19:10:00</th>\n",
       "      <td>#MuseveniCanBeSensible if stay away from peopl...</td>\n",
       "      <td>False</td>\n",
       "      <td>0</td>\n",
       "      <td>0</td>\n",
       "      <td>False</td>\n",
       "      <td>NaN</td>\n",
       "      <td>7.000000e+17</td>\n",
       "      <td>NaN</td>\n",
       "      <td>&lt;a href=\"http://twitter.com/download/android\" ...</td>\n",
       "      <td>steve_ke</td>\n",
       "      <td>0</td>\n",
       "      <td>False</td>\n",
       "      <td>False</td>\n",
       "      <td>NaN</td>\n",
       "      <td>NaN</td>\n",
       "    </tr>\n",
       "  </tbody>\n",
       "</table>\n",
       "</div>"
      ],
      "text/plain": [
       "                                                                  text  \\\n",
       "created                                                                  \n",
       "2016-02-18 19:11:00  \"@ntvuganda: Kizza Besigye has been arrested b...   \n",
       "2016-02-18 19:10:00  #MuseveniCanBeSensible if stay away from peopl...   \n",
       "\n",
       "                    favorited  favoriteCount replyToSN truncated  replyToSID  \\\n",
       "created                                                                        \n",
       "2016-02-18 19:11:00     False              0         0     False         NaN   \n",
       "2016-02-18 19:10:00     False              0         0     False         NaN   \n",
       "\n",
       "                               id  replyToUID  \\\n",
       "created                                         \n",
       "2016-02-18 19:11:00  7.000000e+17         NaN   \n",
       "2016-02-18 19:10:00  7.000000e+17         NaN   \n",
       "\n",
       "                                                          statusSource  \\\n",
       "created                                                                  \n",
       "2016-02-18 19:11:00  <a href=\"http://www.twitter.com\" rel=\"nofollow...   \n",
       "2016-02-18 19:10:00  <a href=\"http://twitter.com/download/android\" ...   \n",
       "\n",
       "                      screenName  retweetCount isRetweet retweeted  longitude  \\\n",
       "created                                                                         \n",
       "2016-02-18 19:11:00  mashanubian             0     False     False        NaN   \n",
       "2016-02-18 19:10:00     steve_ke             0     False     False        NaN   \n",
       "\n",
       "                     latitude  \n",
       "created                        \n",
       "2016-02-18 19:11:00       NaN  \n",
       "2016-02-18 19:10:00       NaN  "
      ]
     },
     "execution_count": 2,
     "metadata": {},
     "output_type": "execute_result"
    }
   ],
   "source": [
    "#read in all the non retweet data, which means its the original data, and having retweet counts in the retweetCount column\n",
    "tweets = pd.read_pickle('cleaned_non_retweets.pkl')\n",
    "tweets[:2]"
   ]
  },
  {
   "cell_type": "code",
   "execution_count": 3,
   "metadata": {
    "collapsed": false
   },
   "outputs": [
    {
     "data": {
      "text/plain": [
       "Index([u'text', u'favorited', u'favoriteCount', u'replyToSN', u'truncated',\n",
       "       u'replyToSID', u'id', u'replyToUID', u'statusSource', u'screenName',\n",
       "       u'retweetCount', u'isRetweet', u'retweeted', u'longitude', u'latitude'],\n",
       "      dtype='object')"
      ]
     },
     "execution_count": 3,
     "metadata": {},
     "output_type": "execute_result"
    }
   ],
   "source": [
    "tweets.columns"
   ]
  },
  {
   "cell_type": "code",
   "execution_count": 4,
   "metadata": {
    "collapsed": false
   },
   "outputs": [
    {
     "data": {
      "text/plain": [
       "5021"
      ]
     },
     "execution_count": 4,
     "metadata": {},
     "output_type": "execute_result"
    }
   ],
   "source": [
    "#The number of twitter Usernames\n",
    "len(pd.unique(tweets['screenName'].ravel()))"
   ]
  },
  {
   "cell_type": "code",
   "execution_count": 5,
   "metadata": {
    "collapsed": false
   },
   "outputs": [
    {
     "data": {
      "text/html": [
       "<div>\n",
       "<table border=\"1\" class=\"dataframe\">\n",
       "  <thead>\n",
       "    <tr style=\"text-align: right;\">\n",
       "      <th></th>\n",
       "      <th>text</th>\n",
       "      <th>favorited</th>\n",
       "      <th>favoriteCount</th>\n",
       "      <th>replyToSN</th>\n",
       "      <th>truncated</th>\n",
       "      <th>replyToSID</th>\n",
       "      <th>id</th>\n",
       "      <th>replyToUID</th>\n",
       "      <th>statusSource</th>\n",
       "      <th>screenName</th>\n",
       "      <th>retweetCount</th>\n",
       "      <th>isRetweet</th>\n",
       "      <th>retweeted</th>\n",
       "      <th>longitude</th>\n",
       "      <th>latitude</th>\n",
       "    </tr>\n",
       "    <tr>\n",
       "      <th>created</th>\n",
       "      <th></th>\n",
       "      <th></th>\n",
       "      <th></th>\n",
       "      <th></th>\n",
       "      <th></th>\n",
       "      <th></th>\n",
       "      <th></th>\n",
       "      <th></th>\n",
       "      <th></th>\n",
       "      <th></th>\n",
       "      <th></th>\n",
       "      <th></th>\n",
       "      <th></th>\n",
       "      <th></th>\n",
       "      <th></th>\n",
       "    </tr>\n",
       "  </thead>\n",
       "  <tbody>\n",
       "    <tr>\n",
       "      <th>2016-02-18 18:34:00</th>\n",
       "      <td>You guys, there's a polling station in Kyenger...</td>\n",
       "      <td>False</td>\n",
       "      <td>30</td>\n",
       "      <td>0</td>\n",
       "      <td>False</td>\n",
       "      <td>NaN</td>\n",
       "      <td>7.000000e+17</td>\n",
       "      <td>NaN</td>\n",
       "      <td>&lt;a href=\"http://twitter.com/download/android\" ...</td>\n",
       "      <td>Rukwengye</td>\n",
       "      <td>74</td>\n",
       "      <td>False</td>\n",
       "      <td>False</td>\n",
       "      <td>NaN</td>\n",
       "      <td>NaN</td>\n",
       "    </tr>\n",
       "    <tr>\n",
       "      <th>2016-02-18 18:29:00</th>\n",
       "      <td>#UgandaDecides police have sorrounded Imperial...</td>\n",
       "      <td>False</td>\n",
       "      <td>18</td>\n",
       "      <td>0</td>\n",
       "      <td>False</td>\n",
       "      <td>NaN</td>\n",
       "      <td>7.000000e+17</td>\n",
       "      <td>NaN</td>\n",
       "      <td>&lt;a href=\"http://twitter.com/download/android\" ...</td>\n",
       "      <td>Sudhirntv</td>\n",
       "      <td>84</td>\n",
       "      <td>False</td>\n",
       "      <td>False</td>\n",
       "      <td>NaN</td>\n",
       "      <td>NaN</td>\n",
       "    </tr>\n",
       "  </tbody>\n",
       "</table>\n",
       "</div>"
      ],
      "text/plain": [
       "                                                                  text  \\\n",
       "created                                                                  \n",
       "2016-02-18 18:34:00  You guys, there's a polling station in Kyenger...   \n",
       "2016-02-18 18:29:00  #UgandaDecides police have sorrounded Imperial...   \n",
       "\n",
       "                    favorited  favoriteCount replyToSN truncated  replyToSID  \\\n",
       "created                                                                        \n",
       "2016-02-18 18:34:00     False             30         0     False         NaN   \n",
       "2016-02-18 18:29:00     False             18         0     False         NaN   \n",
       "\n",
       "                               id  replyToUID  \\\n",
       "created                                         \n",
       "2016-02-18 18:34:00  7.000000e+17         NaN   \n",
       "2016-02-18 18:29:00  7.000000e+17         NaN   \n",
       "\n",
       "                                                          statusSource  \\\n",
       "created                                                                  \n",
       "2016-02-18 18:34:00  <a href=\"http://twitter.com/download/android\" ...   \n",
       "2016-02-18 18:29:00  <a href=\"http://twitter.com/download/android\" ...   \n",
       "\n",
       "                    screenName  retweetCount isRetweet retweeted  longitude  \\\n",
       "created                                                                       \n",
       "2016-02-18 18:34:00  Rukwengye            74     False     False        NaN   \n",
       "2016-02-18 18:29:00  Sudhirntv            84     False     False        NaN   \n",
       "\n",
       "                     latitude  \n",
       "created                        \n",
       "2016-02-18 18:34:00       NaN  \n",
       "2016-02-18 18:29:00       NaN  "
      ]
     },
     "execution_count": 5,
     "metadata": {},
     "output_type": "execute_result"
    }
   ],
   "source": [
    "tweets[tweets['retweetCount'] > 50][:2]"
   ]
  },
  {
   "cell_type": "code",
   "execution_count": 6,
   "metadata": {
    "collapsed": true
   },
   "outputs": [],
   "source": [
    "#Get the number of tweets, favorites and retweets"
   ]
  },
  {
   "cell_type": "code",
   "execution_count": 7,
   "metadata": {
    "collapsed": true
   },
   "outputs": [],
   "source": [
    "def calculate(x):\n",
    "    return pd.Series(dict(number_of_tweets = x['text'].count(),\n",
    "                       retweetCount = x['retweetCount'].sum(),\n",
    "                       favoriteCount = x['favoriteCount'].sum(),\n",
    "                       ))"
   ]
  },
  {
   "cell_type": "code",
   "execution_count": 8,
   "metadata": {
    "collapsed": true
   },
   "outputs": [],
   "source": [
    "#Do this according to account name"
   ]
  },
  {
   "cell_type": "code",
   "execution_count": 9,
   "metadata": {
    "collapsed": false
   },
   "outputs": [
    {
     "name": "stdout",
     "output_type": "stream",
     "text": [
      "5021\n"
     ]
    }
   ],
   "source": [
    "account_count = tweets.groupby('screenName').apply(calculate) \n",
    "print len(account_count)\n",
    "all_accounts = account_count.sort_values('retweetCount', ascending=False)"
   ]
  },
  {
   "cell_type": "code",
   "execution_count": 12,
   "metadata": {
    "collapsed": false
   },
   "outputs": [],
   "source": [
    "tweets.to_csv('data_to_get_top_accounts_tweets.csv')"
   ]
  },
  {
   "cell_type": "code",
   "execution_count": 10,
   "metadata": {
    "collapsed": false
   },
   "outputs": [
    {
     "data": {
      "text/html": [
       "<div>\n",
       "<table border=\"1\" class=\"dataframe\">\n",
       "  <thead>\n",
       "    <tr style=\"text-align: right;\">\n",
       "      <th></th>\n",
       "      <th>favoriteCount</th>\n",
       "      <th>number_of_tweets</th>\n",
       "      <th>retweetCount</th>\n",
       "    </tr>\n",
       "    <tr>\n",
       "      <th>screenName</th>\n",
       "      <th></th>\n",
       "      <th></th>\n",
       "      <th></th>\n",
       "    </tr>\n",
       "  </thead>\n",
       "  <tbody>\n",
       "    <tr>\n",
       "      <th>Winnie_Byanyima</th>\n",
       "      <td>768</td>\n",
       "      <td>39</td>\n",
       "      <td>1540</td>\n",
       "    </tr>\n",
       "    <tr>\n",
       "      <th>DailyMonitor</th>\n",
       "      <td>436</td>\n",
       "      <td>66</td>\n",
       "      <td>1530</td>\n",
       "    </tr>\n",
       "  </tbody>\n",
       "</table>\n",
       "</div>"
      ],
      "text/plain": [
       "                 favoriteCount  number_of_tweets  retweetCount\n",
       "screenName                                                    \n",
       "Winnie_Byanyima            768                39          1540\n",
       "DailyMonitor               436                66          1530"
      ]
     },
     "execution_count": 10,
     "metadata": {},
     "output_type": "execute_result"
    }
   ],
   "source": [
    "all_accounts[:2]"
   ]
  },
  {
   "cell_type": "code",
   "execution_count": 11,
   "metadata": {
    "collapsed": true
   },
   "outputs": [],
   "source": [
    "#Top Tweeting accounts"
   ]
  },
  {
   "cell_type": "code",
   "execution_count": 12,
   "metadata": {
    "collapsed": false,
    "scrolled": true
   },
   "outputs": [
    {
     "data": {
      "image/png": "[encoded data removed]",
      "text/plain": [
       "<matplotlib.figure.Figure at 0x3cdbc88>"
      ]
     },
     "metadata": {},
     "output_type": "display_data"
    }
   ],
   "source": [
    "top_accounts_plot = all_accounts['number_of_tweets'][:10].plot(kind='bar', alpha=0.75)\n",
    "xticks(fontsize = 10,rotation=60, ha =\"right\")\n",
    "top_accounts_plot.set_xlabel('Twitter Account Name', weight='bold', labelpad=30)   \n",
    "top_accounts_plot.set_ylabel('Number of Tweets', weight='bold', labelpad=25) #ADD PADDING TO RIGHT OF Y-AXIS LABEL\n",
    "savefig('Top account counts - bar graph.png', bbox_inches='tight', dpi=300, format='png')"
   ]
  },
  {
   "cell_type": "code",
   "execution_count": 13,
   "metadata": {
    "collapsed": false
   },
   "outputs": [],
   "source": [
    "plt.rcParams['figure.figsize'] = (15,5)"
   ]
  },
  {
   "cell_type": "code",
   "execution_count": 14,
   "metadata": {
    "collapsed": false
   },
   "outputs": [
    {
     "data": {
      "image/png": "[encoded data removed]",
      "text/plain": [
       "<matplotlib.figure.Figure at 0x1bbe70f0>"
      ]
     },
     "metadata": {},
     "output_type": "display_data"
    }
   ],
   "source": [
    "top_accounts_plot = all_accounts[['retweetCount','number_of_tweets']][:10].plot(kind='barh', alpha=0.75)\n",
    "xticks(fontsize = 12) #,rotation=60, ha =\"right\")\n",
    "top_accounts_plot.set_xlabel('Number of Tweets', weight='bold', labelpad=30)   \n",
    "top_accounts_plot.set_ylabel('Twitter Account Name', weight='bold', labelpad=25) #ADD PADDING TO RIGHT OF Y-AXIS LABEL\n",
    "savefig('Top account counts - horizontal bar graph2.png', bbox_inches='tight', dpi=300, format='png')"
   ]
  }
 ],
 "metadata": {
  "kernelspec": {
   "display_name": "Python [default]",
   "language": "python",
   "name": "python2"
  },
  "language_info": {
   "codemirror_mode": {
    "name": "ipython",
    "version": 2
   },
   "file_extension": ".py",
   "mimetype": "text/x-python",
   "name": "python",
   "nbconvert_exporter": "python",
   "pygments_lexer": "ipython2",
   "version": "2.7.12"
  }
 },
 "nbformat": 4,
 "nbformat_minor": 0
}
